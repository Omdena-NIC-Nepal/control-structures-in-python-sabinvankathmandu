{
 "cells": [
  {
   "cell_type": "code",
   "execution_count": 6,
   "metadata": {},
   "outputs": [],
   "source": [
    "# Task 1: while loop\n",
    "def while_loop():\n",
    "\n",
    "    number = 0\n",
    "    while number <= 20:\n",
    "        # Your code here\n",
    "        if number % 2 == 0:\n",
    "            print(number)\n",
    "            if number == 16:\n",
    "                break\n",
    "        number += 1\n"
   ]
  },
  {
   "cell_type": "code",
   "execution_count": 7,
   "metadata": {},
   "outputs": [],
   "source": [
    "# Task 2: for loop with continue\n",
    "def for_loop_continue():\n",
    "    for num in range(1, 16):\n",
    "        # Your code here\n",
    "        if num % 3 == 0:\n",
    "            continue\n",
    "        print(num)"
   ]
  },
  {
   "cell_type": "code",
   "execution_count": 8,
   "metadata": {},
   "outputs": [],
   "source": [
    "def number_classification(number=None):\n",
    "    if number is None:\n",
    "        number = int(input(\"Enter a number: \"))\n",
    "    if number < 0:\n",
    "        print(\"negative\")\n",
    "    elif number > 0:\n",
    "        print(\"positive\")\n",
    "    else:\n",
    "        print(\"zero\")"
   ]
  },
  {
   "cell_type": "code",
   "execution_count": 9,
   "metadata": {},
   "outputs": [],
   "source": [
    "# Task 4: Nested loops\n",
    "def multiplication_table():\n",
    "    for i in range(1, 6):\n",
    "        for j in range(1, 6):\n",
    "            # Your code here\n",
    "            print(f\"{i} x {j} = {i*j}\")\n"
   ]
  },
  {
   "cell_type": "markdown",
   "metadata": {},
   "source": []
  }
 ],
 "metadata": {
  "language_info": {
   "name": "python"
  }
 },
 "nbformat": 4,
 "nbformat_minor": 2
}
